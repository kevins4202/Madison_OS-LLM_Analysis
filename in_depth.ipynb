{
 "cells": [
  {
   "cell_type": "code",
   "execution_count": 1,
   "id": "54c14b99",
   "metadata": {},
   "outputs": [],
   "source": [
    "import pandas as pd\n",
    "import numpy as np\n",
    "import os\n",
    "import matplotlib.pyplot as plt\n",
    "import matplotlib\n",
    "import matplotlib.patches as mpatches\n",
    "%matplotlib inline\n",
    "\n",
    "\n"
   ]
  },
  {
   "cell_type": "code",
   "execution_count": 4,
   "id": "b54dfcbf",
   "metadata": {},
   "outputs": [],
   "source": [
    "exams = ['21-fall-final', '21-fall-mid', '18-spring-final', '18-spring-mid']"
   ]
  },
  {
   "cell_type": "code",
   "execution_count": 7,
   "id": "51bd5eca",
   "metadata": {},
   "outputs": [],
   "source": [
    "def getQs(a,b,c,d):\n",
    "    l = df[(df['gpt3.5_pts_earned'] ==a) & (df['gpt4_pts_earned'] ==b) & (df['bard_pts_earned'] ==c) & (df['gemini_pts_earned'] ==d)]\n",
    "#     return l\n",
    "    return list(np.asarray(l.index.tolist()) + 1)\n",
    "for exam in exams:\n",
    "    df = pd.read_csv('exams/'+exam + '.csv')\n",
    "    \n",
    "    #all three got right\n",
    "    all3 = getQs(1,1,1,1)\n",
    "    \n",
    "    #all wrong\n",
    "    all0 = getQs(0,0,0,0)\n",
    "    \n",
    "    #only gpt3.5\n",
    "    only3 = getQs(1,0,0,0)\n",
    "    \n",
    "    #only gpt4\n",
    "    only4 = getQs(0,1,0,0)\n",
    "    \n",
    "    #only bard\n",
    "    \n",
    "    onlyb = getQs(0,0,1,0)\n",
    "    \n",
    "    #only gemini\n",
    "    onlyg = getQs(0,0,0,1)\n",
    "    \n",
    "    #bards\n",
    "    onlybs = getQs(0,0,1,1)\n",
    "    \n",
    "    #only gpts\n",
    "    onlyg = getQs(1,1,0,0)\n",
    "    \n",
    "#     print(df)"
   ]
  },
  {
   "cell_type": "code",
   "execution_count": 8,
   "id": "ec6197a2",
   "metadata": {},
   "outputs": [
    {
     "data": {
      "text/plain": [
       "[1,\n",
       " 6,\n",
       " 11,\n",
       " 14,\n",
       " 15,\n",
       " 16,\n",
       " 19,\n",
       " 23,\n",
       " 24,\n",
       " 28,\n",
       " 29,\n",
       " 36,\n",
       " 40,\n",
       " 42,\n",
       " 43,\n",
       " 44,\n",
       " 51,\n",
       " 52,\n",
       " 53,\n",
       " 56,\n",
       " 57,\n",
       " 58,\n",
       " 60,\n",
       " 66,\n",
       " 67,\n",
       " 68,\n",
       " 71,\n",
       " 73,\n",
       " 74,\n",
       " 75,\n",
       " 81,\n",
       " 83,\n",
       " 86,\n",
       " 87,\n",
       " 89,\n",
       " 90,\n",
       " 91,\n",
       " 92,\n",
       " 93,\n",
       " 94,\n",
       " 96,\n",
       " 102,\n",
       " 108,\n",
       " 113,\n",
       " 116,\n",
       " 119,\n",
       " 120,\n",
       " 126,\n",
       " 128,\n",
       " 130,\n",
       " 131,\n",
       " 132,\n",
       " 133,\n",
       " 139,\n",
       " 144,\n",
       " 148,\n",
       " 149]"
      ]
     },
     "execution_count": 8,
     "metadata": {},
     "output_type": "execute_result"
    }
   ],
   "source": [
    "all3"
   ]
  },
  {
   "cell_type": "code",
   "execution_count": null,
   "id": "18930ec3",
   "metadata": {},
   "outputs": [],
   "source": []
  }
 ],
 "metadata": {
  "kernelspec": {
   "display_name": "Python 3 (ipykernel)",
   "language": "python",
   "name": "python3"
  },
  "language_info": {
   "codemirror_mode": {
    "name": "ipython",
    "version": 3
   },
   "file_extension": ".py",
   "mimetype": "text/x-python",
   "name": "python",
   "nbconvert_exporter": "python",
   "pygments_lexer": "ipython3",
   "version": "3.9.18"
  }
 },
 "nbformat": 4,
 "nbformat_minor": 5
}
